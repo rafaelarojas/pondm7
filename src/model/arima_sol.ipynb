{
 "cells": [
  {
   "cell_type": "markdown",
   "metadata": {},
   "source": [
    "# Modelo Arima para Solana\n",
    "\n",
    "Este notebook contém o desenvolvimento do modelo **ARIMA** para o **Solana**"
   ]
  },
  {
   "cell_type": "code",
   "execution_count": null,
   "metadata": {},
   "outputs": [],
   "source": [
    "import yfinance as yf\n",
    "import pandas as pd\n",
    "import numpy as np\n",
    "import matplotlib.pyplot as plt\n",
    "from statsmodels.tsa.arima.model import ARIMA\n",
    "from sklearn.metrics import mean_squared_error, mean_absolute_error"
   ]
  },
  {
   "cell_type": "code",
   "execution_count": null,
   "metadata": {},
   "outputs": [],
   "source": [
    "# Coleta de Dados Históricos (2 anos)\n",
    "sol = yf.Ticker(\"SOL-USD\")\n",
    "sol_data = sol.history(period=\"2y\", interval=\"1h\")  # Coleta de dados por hora"
   ]
  },
  {
   "cell_type": "code",
   "execution_count": null,
   "metadata": {},
   "outputs": [],
   "source": [
    "# Coluna 'Close' para previsão\n",
    "data = sol_data[[\"Close\"]].dropna()"
   ]
  },
  {
   "cell_type": "code",
   "execution_count": null,
   "metadata": {},
   "outputs": [],
   "source": [
    "# Divisão dos Dados (80% treino, 20% teste)\n",
    "train_size = int(len(data) * 0.8)\n",
    "train_data, test_data = data[:train_size], data[train_size:]"
   ]
  },
  {
   "cell_type": "code",
   "execution_count": null,
   "metadata": {},
   "outputs": [],
   "source": [
    "# Construção e Treinamento do Modelo ARIMA\n",
    "model = ARIMA(train_data, order=(5, 1, 0))\n",
    "model_fit = model.fit()"
   ]
  },
  {
   "cell_type": "code",
   "execution_count": null,
   "metadata": {},
   "outputs": [],
   "source": [
    "# Fazendo as Previsões\n",
    "predictions = model_fit.forecast(steps=len(test_data))\n",
    "predicted_prices = predictions.values"
   ]
  },
  {
   "cell_type": "code",
   "execution_count": null,
   "metadata": {},
   "outputs": [],
   "source": [
    "# Cálculo das Métricas do Modelo\n",
    "mse = mean_squared_error(test_data, predicted_prices)\n",
    "rmse = np.sqrt(mse)\n",
    "mae = mean_absolute_error(test_data, predicted_prices)\n",
    "\n",
    "print(f\"Mean Squared Error (MSE): {mse:.2f}\")\n",
    "print(f\"Root Mean Squared Error (RMSE): {rmse:.2f}\")\n",
    "print(f\"Mean Absolute Error (MAE): {mae:.2f}\")"
   ]
  },
  {
   "cell_type": "code",
   "execution_count": null,
   "metadata": {},
   "outputs": [],
   "source": [
    "# Previsão dos próximas 4 dias (96 horas)\n",
    "future_forecast = model_fit.forecast(steps=96)\n",
    "future_dates = pd.date_range(start=test_data.index[-1] + pd.Timedelta(hours=1), periods=96, freq='H')"
   ]
  },
  {
   "cell_type": "code",
   "execution_count": null,
   "metadata": {},
   "outputs": [],
   "source": [
    "# Identificação dos Melhores Horários para Comprar e Vender\n",
    "sell_hour_index = np.argmax(future_forecast)\n",
    "buy_hour_index = np.argmin(future_forecast)\n",
    "\n",
    "sell_hour = future_dates[sell_hour_index]\n",
    "buy_hour = future_dates[buy_hour_index]\n",
    "\n",
    "print(f\"Melhor horário para vender Solana: {sell_hour}\")\n",
    "print(f\"Melhor horário para comprar Solana: {buy_hour}\")\n"
   ]
  },
  {
   "cell_type": "code",
   "execution_count": null,
   "metadata": {},
   "outputs": [],
   "source": [
    "# Gráfico mostrando a previsão para as próximas 96 horas comparada aos dados passados\n",
    "plt.figure(figsize=(14, 7))\n",
    "\n",
    "# Dados históricos de preços\n",
    "plt.plot(sol_data.index, sol_data['Close'], label=\"Dados Históricos\", color=\"black\")\n",
    "\n",
    "# Previsões futuras\n",
    "plt.plot(future_dates, future_forecast, label=\"Previsão 96 Horas Futuras\", color=\"blue\")\n",
    "\n",
    "# Melhor horário para vender\n",
    "plt.scatter(sell_hour, future_forecast[sell_hour_index], color=\"red\", label=\"Melhor Horário para Vender\", marker=\"v\", s=100)\n",
    "\n",
    "# Melhor horário para comprar\n",
    "plt.scatter(buy_hour, future_forecast[buy_hour_index], color=\"green\", label=\"Melhor Horário para Comprar\", marker=\"^\", s=100)\n",
    "\n",
    "plt.title(\"Previsão de Preço de Solana e Melhores Horários para Compra e Venda\")\n",
    "plt.xlabel(\"Data e Hora\")\n",
    "plt.ylabel(\"Preço Previsto (USD)\")\n",
    "plt.legend()\n",
    "plt.xticks(rotation=45)\n",
    "plt.tight_layout()\n",
    "plt.show()"
   ]
  },
  {
   "cell_type": "code",
   "execution_count": null,
   "metadata": {},
   "outputs": [],
   "source": [
    "plt.figure(figsize=(14, 7))\n",
    "plt.plot(test_data.index, test_data, color=\"black\", label=\"Preços Reais\")\n",
    "plt.plot(test_data.index, predicted_prices, color=\"blue\", label=\"Previsões\")\n",
    "plt.title(\"Comparação entre Preços Reais e Previsões\")\n",
    "plt.xlabel(\"Data e Hora\")\n",
    "plt.ylabel(\"Preço (USD)\")\n",
    "plt.legend()\n",
    "plt.xticks(rotation=45)\n",
    "plt.tight_layout()\n",
    "plt.show()"
   ]
  },
  {
   "cell_type": "code",
   "execution_count": null,
   "metadata": {},
   "outputs": [],
   "source": [
    "errors = test_data.values.flatten() - predicted_prices\n",
    "\n",
    "plt.figure(figsize=(14, 7))\n",
    "plt.plot(test_data.index, errors, color=\"red\", label=\"Erros de Previsão\")\n",
    "plt.title(\"Erros de Previsão (Preço Real - Preço Previsto)\")\n",
    "plt.xlabel(\"Data e Hora\")\n",
    "plt.ylabel(\"Erro (USD)\")\n",
    "plt.legend()\n",
    "plt.xticks(rotation=45)\n",
    "plt.tight_layout()\n",
    "plt.show()\n",
    "\n",
    "plt.figure(figsize=(14, 7))"
   ]
  },
  {
   "cell_type": "code",
   "execution_count": null,
   "metadata": {},
   "outputs": [],
   "source": [
    "# Últimos preços reais de teste\n",
    "plt.plot(test_data.index[-96:], test_data.values[-96:], label=\"Últimos Preços Reais\", color=\"black\")\n",
    "\n",
    "# Previsões para as próximas 96 horas\n",
    "plt.plot(future_dates, future_forecast, label=\"Previsões Próximas 96 Horas\", color=\"blue\")\n",
    "\n",
    "plt.title(\"Previsões de Preço para as Próximas 96 Horas\")\n",
    "plt.xlabel(\"Data e Hora\")\n",
    "plt.ylabel(\"Preço (USD)\")\n",
    "plt.legend()\n",
    "plt.xticks(rotation=45)\n",
    "plt.tight_layout()\n",
    "plt.show()"
   ]
  },
  {
   "cell_type": "code",
   "execution_count": null,
   "metadata": {},
   "outputs": [],
   "source": [
    "plt.figure(figsize=(10, 6))\n",
    "plt.hist(errors, bins=50, color=\"purple\", alpha=0.7)\n",
    "plt.title(\"Distribuição dos Erros de Previsão\")\n",
    "plt.xlabel(\"Erro (USD)\")\n",
    "plt.ylabel(\"Frequência\")\n",
    "plt.show()"
   ]
  },
  {
   "cell_type": "code",
   "execution_count": null,
   "metadata": {},
   "outputs": [],
   "source": [
    "model_fit.save('model_arima_sol.pkl')"
   ]
  }
 ],
 "metadata": {
  "language_info": {
   "name": "python"
  }
 },
 "nbformat": 4,
 "nbformat_minor": 2
}
